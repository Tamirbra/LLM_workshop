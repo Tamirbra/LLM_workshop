{
 "cells": [
  {
   "cell_type": "code",
   "execution_count": 4,
   "metadata": {
    "ExecuteTime": {
     "end_time": "2023-12-01T09:48:03.634318600Z",
     "start_time": "2023-12-01T09:48:02.401824700Z"
    }
   },
   "outputs": [
    {
     "name": "stdout",
     "output_type": "stream",
     "text": [
      "C:\\Users\\TamirBracha\\LLM\\llm_workshop\\data\\sample_apps.parquet\n"
     ]
    }
   ],
   "source": [
    "import sys, json, re, collections\n",
    "import pandas as pd\n",
    "from pathlib import Path\n",
    "from decouple import config\n",
    "sys.path.append(\"../src/\")\n",
    "from llm_helpers import openai_client, chatgpt_ask, openai_ask_verbelizer, openai_ask_helper\n",
    "\n",
    "pd.set_option('display.max_columns', 1000, 'display.width', 1000, 'display.max_rows',1000)\n",
    "\n",
    "data_dir = Path(\".\").absolute().parent/\"data\"\n",
    "ls = lambda p:print(\"\\n\".join(map(str,p.iterdir())))\n",
    "\n",
    "ls(data_dir)"
   ]
  },
  {
   "cell_type": "code",
   "execution_count": 5,
   "metadata": {
    "ExecuteTime": {
     "end_time": "2023-12-01T09:48:04.680663700Z",
     "start_time": "2023-12-01T09:48:04.598661700Z"
    }
   },
   "outputs": [
    {
     "data": {
      "text/plain": "                                               bundle_id                           title                                        description                                          store_url        category_names    ios\n26290                        com.hwqgrhhjfd.idlefastfood                      Eatventure  Are you looking to become a restaurant million...  https://play.google.com/store/apps/details?id=...  GAME_SIMULATION,GAME  False\n60235  net.wooga.junes_journey_hidden_object_mystery_...  June's Journey: Hidden Objects  Are you ready to go on an exciting journey to ...  https://play.google.com/store/apps/details?id=...   GAME_ADVENTURE,GAME  False\n1373                                          1138264921    Match Masters ‎- PvP Match 3  Match 3 games - reinvented! Now with online mu...  https://apps.apple.com/us/app/match-masters-pv...   Games,Casual,Puzzle   True\n6673                                           892521917         Tiki Solitaire TriPeaks  Tiki Solitaire TriPeaks: the classic Solitaire...  https://apps.apple.com/us/app/tiki-solitaire-t...     Games,Card,Puzzle   True\n59980                            net.peakgames.toonblast                      Toon Blast  From the creators of Toy Blast comes the ultim...  https://play.google.com/store/apps/details?id=...      GAME_PUZZLE,GAME  False\n7478              com.alibaba.intl.android.apps.poseidon   Alibaba.com - B2B marketplace  What is Alibaba.com?\\nAlibaba.com is one of th...  https://play.google.com/store/apps/details?id=...  SHOPPING,APPLICATION  False\n51356                                com.walmart.android      Walmart Shopping & Grocery  Save money. Live better.\\n\\nThe Walmart app is...  https://play.google.com/store/apps/details?id=...  SHOPPING,APPLICATION  False\n27431                         com.inspiredsquare.jupiter       2248 - Number Puzzle Game  2248 Number Block Puzzle Game2248 Puzzle Game:...  https://play.google.com/store/apps/details?id=...      GAME_PUZZLE,GAME  False\n49136                              com.tripledot.woodoku    Woodoku - Block Puzzle Games  Woodoku: a wood block puzzle game meets a sudo...  https://play.google.com/store/apps/details?id=...      GAME_PUZZLE,GAME  False",
      "text/html": "<div>\n<style scoped>\n    .dataframe tbody tr th:only-of-type {\n        vertical-align: middle;\n    }\n\n    .dataframe tbody tr th {\n        vertical-align: top;\n    }\n\n    .dataframe thead th {\n        text-align: right;\n    }\n</style>\n<table border=\"1\" class=\"dataframe\">\n  <thead>\n    <tr style=\"text-align: right;\">\n      <th></th>\n      <th>bundle_id</th>\n      <th>title</th>\n      <th>description</th>\n      <th>store_url</th>\n      <th>category_names</th>\n      <th>ios</th>\n    </tr>\n  </thead>\n  <tbody>\n    <tr>\n      <th>26290</th>\n      <td>com.hwqgrhhjfd.idlefastfood</td>\n      <td>Eatventure</td>\n      <td>Are you looking to become a restaurant million...</td>\n      <td>https://play.google.com/store/apps/details?id=...</td>\n      <td>GAME_SIMULATION,GAME</td>\n      <td>False</td>\n    </tr>\n    <tr>\n      <th>60235</th>\n      <td>net.wooga.junes_journey_hidden_object_mystery_...</td>\n      <td>June's Journey: Hidden Objects</td>\n      <td>Are you ready to go on an exciting journey to ...</td>\n      <td>https://play.google.com/store/apps/details?id=...</td>\n      <td>GAME_ADVENTURE,GAME</td>\n      <td>False</td>\n    </tr>\n    <tr>\n      <th>1373</th>\n      <td>1138264921</td>\n      <td>Match Masters ‎- PvP Match 3</td>\n      <td>Match 3 games - reinvented! Now with online mu...</td>\n      <td>https://apps.apple.com/us/app/match-masters-pv...</td>\n      <td>Games,Casual,Puzzle</td>\n      <td>True</td>\n    </tr>\n    <tr>\n      <th>6673</th>\n      <td>892521917</td>\n      <td>Tiki Solitaire TriPeaks</td>\n      <td>Tiki Solitaire TriPeaks: the classic Solitaire...</td>\n      <td>https://apps.apple.com/us/app/tiki-solitaire-t...</td>\n      <td>Games,Card,Puzzle</td>\n      <td>True</td>\n    </tr>\n    <tr>\n      <th>59980</th>\n      <td>net.peakgames.toonblast</td>\n      <td>Toon Blast</td>\n      <td>From the creators of Toy Blast comes the ultim...</td>\n      <td>https://play.google.com/store/apps/details?id=...</td>\n      <td>GAME_PUZZLE,GAME</td>\n      <td>False</td>\n    </tr>\n    <tr>\n      <th>7478</th>\n      <td>com.alibaba.intl.android.apps.poseidon</td>\n      <td>Alibaba.com - B2B marketplace</td>\n      <td>What is Alibaba.com?\\nAlibaba.com is one of th...</td>\n      <td>https://play.google.com/store/apps/details?id=...</td>\n      <td>SHOPPING,APPLICATION</td>\n      <td>False</td>\n    </tr>\n    <tr>\n      <th>51356</th>\n      <td>com.walmart.android</td>\n      <td>Walmart Shopping &amp; Grocery</td>\n      <td>Save money. Live better.\\n\\nThe Walmart app is...</td>\n      <td>https://play.google.com/store/apps/details?id=...</td>\n      <td>SHOPPING,APPLICATION</td>\n      <td>False</td>\n    </tr>\n    <tr>\n      <th>27431</th>\n      <td>com.inspiredsquare.jupiter</td>\n      <td>2248 - Number Puzzle Game</td>\n      <td>2248 Number Block Puzzle Game2248 Puzzle Game:...</td>\n      <td>https://play.google.com/store/apps/details?id=...</td>\n      <td>GAME_PUZZLE,GAME</td>\n      <td>False</td>\n    </tr>\n    <tr>\n      <th>49136</th>\n      <td>com.tripledot.woodoku</td>\n      <td>Woodoku - Block Puzzle Games</td>\n      <td>Woodoku: a wood block puzzle game meets a sudo...</td>\n      <td>https://play.google.com/store/apps/details?id=...</td>\n      <td>GAME_PUZZLE,GAME</td>\n      <td>False</td>\n    </tr>\n  </tbody>\n</table>\n</div>"
     },
     "execution_count": 5,
     "metadata": {},
     "output_type": "execute_result"
    }
   ],
   "source": [
    "df = pd.read_parquet(data_dir / \"sample_apps.parquet\").sample(9)\n",
    "df"
   ]
  },
  {
   "cell_type": "markdown",
   "metadata": {},
   "source": [
    "## Asking OpenAI directly?"
   ]
  },
  {
   "cell_type": "code",
   "execution_count": 6,
   "metadata": {
    "ExecuteTime": {
     "end_time": "2023-12-01T09:48:06.771274100Z",
     "start_time": "2023-12-01T09:48:06.118725400Z"
    }
   },
   "outputs": [
    {
     "data": {
      "text/plain": "['yes, a dog is a mammal.']"
     },
     "execution_count": 6,
     "metadata": {},
     "output_type": "execute_result"
    }
   ],
   "source": [
    "def openai_ask(prompts):\n",
    "    response = openai_client.completions.create(\n",
    "        model=\"text-davinci-003\",\n",
    "        prompt=prompts,\n",
    "    )\n",
    "    ret = [choice.text.strip().lower() for choice in response.choices]\n",
    "    return ret\n",
    "\n",
    "openai_ask(\"Is a dog a mammal?\")"
   ]
  },
  {
   "cell_type": "code",
   "execution_count": 7,
   "metadata": {
    "ExecuteTime": {
     "end_time": "2023-12-01T09:48:08.223963700Z",
     "start_time": "2023-12-01T09:48:07.660954Z"
    }
   },
   "outputs": [
    {
     "data": {
      "text/plain": "['yes']"
     },
     "execution_count": 7,
     "metadata": {},
     "output_type": "execute_result"
    }
   ],
   "source": [
    "openai_ask(\"Is a dog a mammal? answer yes or no\")"
   ]
  },
  {
   "cell_type": "markdown",
   "metadata": {},
   "source": [
    "## What about \"fuzzier\" questions?"
   ]
  },
  {
   "cell_type": "code",
   "execution_count": 8,
   "metadata": {
    "ExecuteTime": {
     "end_time": "2023-12-01T09:48:09.953259300Z",
     "start_time": "2023-12-01T09:48:09.232848900Z"
    }
   },
   "outputs": [
    {
     "data": {
      "text/plain": "['financial troubles can be a difficult and stressful experience. borrowing money']"
     },
     "execution_count": 8,
     "metadata": {},
     "output_type": "execute_result"
    }
   ],
   "source": [
    "openai_ask(\"I'm facing financial troubles, should I take a loan?\")"
   ]
  },
  {
   "cell_type": "code",
   "execution_count": 9,
   "metadata": {
    "ExecuteTime": {
     "end_time": "2023-12-01T09:48:10.346459400Z",
     "start_time": "2023-12-01T09:48:09.953759500Z"
    }
   },
   "outputs": [
    {
     "data": {
      "text/plain": "['no']"
     },
     "execution_count": 9,
     "metadata": {},
     "output_type": "execute_result"
    }
   ],
   "source": [
    "openai_ask(\"I'm facing financial troubles, should I take a loan? answer yes or no\")"
   ]
  },
  {
   "cell_type": "code",
   "execution_count": 10,
   "metadata": {
    "ExecuteTime": {
     "end_time": "2023-12-01T09:48:10.838970Z",
     "start_time": "2023-12-01T09:48:10.343959Z"
    }
   },
   "outputs": [
    {
     "data": {
      "text/plain": "['no']"
     },
     "execution_count": 10,
     "metadata": {},
     "output_type": "execute_result"
    }
   ],
   "source": [
    "openai_ask(\"I'm facing financial troubles, should I take a loan? answer yes or no\")"
   ]
  },
  {
   "cell_type": "code",
   "execution_count": 11,
   "metadata": {
    "ExecuteTime": {
     "end_time": "2023-12-01T09:48:11.250480600Z",
     "start_time": "2023-12-01T09:48:10.837971300Z"
    }
   },
   "outputs": [
    {
     "data": {
      "text/plain": "['no']"
     },
     "execution_count": 11,
     "metadata": {},
     "output_type": "execute_result"
    }
   ],
   "source": [
    "openai_ask(\"I'm facing financial troubles, should I take a loan? answer yes or no\")"
   ]
  },
  {
   "cell_type": "markdown",
   "metadata": {},
   "source": [
    "## Popular approach: Retry"
   ]
  },
  {
   "cell_type": "code",
   "execution_count": 12,
   "metadata": {
    "ExecuteTime": {
     "end_time": "2023-12-01T09:48:12.603728Z",
     "start_time": "2023-12-01T09:48:12.206722600Z"
    }
   },
   "outputs": [
    {
     "data": {
      "text/plain": "(1, False)"
     },
     "execution_count": 12,
     "metadata": {},
     "output_type": "execute_result"
    }
   ],
   "source": [
    "def yes_no_or_retry(prompt):\n",
    "    i=0\n",
    "    answer = \"\"\n",
    "    while answer not in {\"yes\", \"no\"}:\n",
    "        answer = openai_ask(prompt)[0].lower()\n",
    "        i+=1\n",
    "    return i, answer==\"yes\"\n",
    "\n",
    "yes_no_or_retry(\"I'm facing financial troubles, should I take a loan? answer yes or no\")"
   ]
  },
  {
   "cell_type": "markdown",
   "metadata": {},
   "source": [
    "As we can see, the answer is not always a valid choise \"yes\" or \"no\"\n",
    "# Introducing verbalizers:\n",
    "\n",
    "## Verbalizers in a sentence:\n",
    "\n",
    "Mapping a **class** to a **token**, and then choosing the token with the highest logit\n",
    "## The OpenAI tokenizer\n",
    "\n",
    "https://platform.openai.com/tokenizer"
   ]
  },
  {
   "cell_type": "code",
   "execution_count": 13,
   "metadata": {
    "ExecuteTime": {
     "end_time": "2023-12-01T09:48:14.069179300Z",
     "start_time": "2023-12-01T09:48:13.741667400Z"
    }
   },
   "outputs": [
    {
     "data": {
      "text/plain": "[True]"
     },
     "execution_count": 13,
     "metadata": {},
     "output_type": "execute_result"
    }
   ],
   "source": [
    "YES_TOKEN = frozenset([5297, 3763, 3363, 8505, 3363, 3763, 43335, 3763, 21560])\n",
    "GPT3_YES_TOKEN = frozenset([9642, 14410, 10035, 7566, 14331, 9891])\n",
    "NO_TOKEN = frozenset([2949, 645, 1400, 3919, 1400, 645, 15285, 645, 8005])\n",
    "GPT3_NO_TOKEN = frozenset([2822, 5782, 912, 2201, 9173, 2360])\n",
    "\n",
    "\n",
    "def openai_yes_or_no(prompts):\n",
    "    response = openai_client.completions.create(\n",
    "        model=\"text-davinci-003\",\n",
    "        prompt=prompts,\n",
    "        temperature=0,\n",
    "        logit_bias={t: 100 for t in YES_TOKEN | NO_TOKEN},\n",
    "        max_tokens=1,\n",
    "    )\n",
    "    ret = [choice.text.strip().lower() == \"yes\" for choice in response.choices]\n",
    "    return ret\n",
    "\n",
    "openai_yes_or_no(\"Is dog a mammal?\")\n"
   ]
  },
  {
   "cell_type": "code",
   "execution_count": 14,
   "metadata": {
    "ExecuteTime": {
     "end_time": "2023-12-01T09:48:14.971382200Z",
     "start_time": "2023-12-01T09:48:14.639857200Z"
    }
   },
   "outputs": [
    {
     "data": {
      "text/plain": "[False]"
     },
     "execution_count": 14,
     "metadata": {},
     "output_type": "execute_result"
    }
   ],
   "source": [
    "openai_yes_or_no(\"I'm facing financial troubles, should I take a loan? answer yes or no\")"
   ]
  },
  {
   "cell_type": "code",
   "execution_count": 15,
   "metadata": {
    "ExecuteTime": {
     "end_time": "2023-12-01T09:48:15.627553300Z",
     "start_time": "2023-12-01T09:48:15.242221100Z"
    }
   },
   "outputs": [
    {
     "data": {
      "text/plain": "Counter({False: 10})"
     },
     "execution_count": 15,
     "metadata": {},
     "output_type": "execute_result"
    }
   ],
   "source": [
    "prompt = \"I'm facing financial troubles, should I take a loan? answer yes or no\"\n",
    "prompts = [prompt]*10\n",
    "answers = openai_yes_or_no(prompts)\n",
    "collections.Counter(answers)"
   ]
  },
  {
   "cell_type": "markdown",
   "metadata": {},
   "source": [
    "## Question:\n",
    "Ask the following questions for each app\n",
    "1. Is the app for kids?\n",
    "2. Is the app a shopping app?\n",
    "3. Is it a game?\n",
    "4. Is this app a dating app?\n",
    "5. Does this app have in-app purchases?\n",
    "6. Is this app a match 3 game?\n",
    "\n",
    "Compare the naive \"yes\" or \"no\" to logit bias"
   ]
  },
  {
   "cell_type": "code",
   "execution_count": 28,
   "outputs": [],
   "source": [
    "question_dict={\n",
    "    \"1\" : \"Is the app for kids?\",\n",
    "    \"2\" : \"Is the app a shopping app?\",\n",
    "    \"3\" : \"Is it a game?\",\n",
    "    \"4\" : \"Is this app a dating app?\",\n",
    "    \"5\" : \"Does this app have in-app purchases?\",\n",
    "    \"6\" : \"Is this app a match 3 game?\"\n",
    "}"
   ],
   "metadata": {
    "collapsed": false,
    "ExecuteTime": {
     "end_time": "2023-12-01T09:57:45.666555900Z",
     "start_time": "2023-12-01T09:57:45.647855100Z"
    }
   }
  },
  {
   "cell_type": "code",
   "execution_count": 29,
   "outputs": [
    {
     "name": "stdout",
     "output_type": "stream",
     "text": [
      "Is the app for kids?\n",
      "Is the app a shopping app?\n",
      "Is it a game?\n",
      "Is this app a dating app?\n",
      "Does this app have in-app purchases?\n",
      "Is this app a match 3 game?\n"
     ]
    }
   ],
   "source": [
    "for i in range(len(question_dict)):\n",
    "    i+=1\n",
    "    df[f\"{question_dict} naive\"] = df.apply(openai_ask_helper(\"Given the app description:\\n{description}\\n\\n{Is it for kids?}\\nAnswer only yes or no\", model_name=\"text-davinci-003\"),axis=1)\n",
    "    df[f\"{question_dict} logit bias\"] = \n",
    "    "
   ],
   "metadata": {
    "collapsed": false,
    "ExecuteTime": {
     "end_time": "2023-12-01T09:57:46.766460Z",
     "start_time": "2023-12-01T09:57:46.756354100Z"
    }
   }
  },
  {
   "cell_type": "code",
   "execution_count": 16,
   "outputs": [
    {
     "data": {
      "text/plain": "                                               bundle_id                           title                                        description                                          store_url        category_names    ios Is the app for kids? naive\n26290                        com.hwqgrhhjfd.idlefastfood                      Eatventure  Are you looking to become a restaurant million...  https://play.google.com/store/apps/details?id=...  GAME_SIMULATION,GAME  False                      [no.]\n60235  net.wooga.junes_journey_hidden_object_mystery_...  June's Journey: Hidden Objects  Are you ready to go on an exciting journey to ...  https://play.google.com/store/apps/details?id=...   GAME_ADVENTURE,GAME  False                    [:\\nno]\n1373                                          1138264921    Match Masters ‎- PvP Match 3  Match 3 games - reinvented! Now with online mu...  https://apps.apple.com/us/app/match-masters-pv...   Games,Casual,Puzzle   True                       [no]\n6673                                           892521917         Tiki Solitaire TriPeaks  Tiki Solitaire TriPeaks: the classic Solitaire...  https://apps.apple.com/us/app/tiki-solitaire-t...     Games,Card,Puzzle   True                       [no]\n59980                            net.peakgames.toonblast                      Toon Blast  From the creators of Toy Blast comes the ultim...  https://play.google.com/store/apps/details?id=...      GAME_PUZZLE,GAME  False                      [yes]\n7478              com.alibaba.intl.android.apps.poseidon   Alibaba.com - B2B marketplace  What is Alibaba.com?\\nAlibaba.com is one of th...  https://play.google.com/store/apps/details?id=...  SHOPPING,APPLICATION  False                      [no.]\n51356                                com.walmart.android      Walmart Shopping & Grocery  Save money. Live better.\\n\\nThe Walmart app is...  https://play.google.com/store/apps/details?id=...  SHOPPING,APPLICATION  False                    [:\\nno]\n27431                         com.inspiredsquare.jupiter       2248 - Number Puzzle Game  2248 Number Block Puzzle Game2248 Puzzle Game:...  https://play.google.com/store/apps/details?id=...      GAME_PUZZLE,GAME  False                    [:\\nno]\n49136                              com.tripledot.woodoku    Woodoku - Block Puzzle Games  Woodoku: a wood block puzzle game meets a sudo...  https://play.google.com/store/apps/details?id=...      GAME_PUZZLE,GAME  False                       [no]",
      "text/html": "<div>\n<style scoped>\n    .dataframe tbody tr th:only-of-type {\n        vertical-align: middle;\n    }\n\n    .dataframe tbody tr th {\n        vertical-align: top;\n    }\n\n    .dataframe thead th {\n        text-align: right;\n    }\n</style>\n<table border=\"1\" class=\"dataframe\">\n  <thead>\n    <tr style=\"text-align: right;\">\n      <th></th>\n      <th>bundle_id</th>\n      <th>title</th>\n      <th>description</th>\n      <th>store_url</th>\n      <th>category_names</th>\n      <th>ios</th>\n      <th>Is the app for kids? naive</th>\n    </tr>\n  </thead>\n  <tbody>\n    <tr>\n      <th>26290</th>\n      <td>com.hwqgrhhjfd.idlefastfood</td>\n      <td>Eatventure</td>\n      <td>Are you looking to become a restaurant million...</td>\n      <td>https://play.google.com/store/apps/details?id=...</td>\n      <td>GAME_SIMULATION,GAME</td>\n      <td>False</td>\n      <td>[no.]</td>\n    </tr>\n    <tr>\n      <th>60235</th>\n      <td>net.wooga.junes_journey_hidden_object_mystery_...</td>\n      <td>June's Journey: Hidden Objects</td>\n      <td>Are you ready to go on an exciting journey to ...</td>\n      <td>https://play.google.com/store/apps/details?id=...</td>\n      <td>GAME_ADVENTURE,GAME</td>\n      <td>False</td>\n      <td>[:\\nno]</td>\n    </tr>\n    <tr>\n      <th>1373</th>\n      <td>1138264921</td>\n      <td>Match Masters ‎- PvP Match 3</td>\n      <td>Match 3 games - reinvented! Now with online mu...</td>\n      <td>https://apps.apple.com/us/app/match-masters-pv...</td>\n      <td>Games,Casual,Puzzle</td>\n      <td>True</td>\n      <td>[no]</td>\n    </tr>\n    <tr>\n      <th>6673</th>\n      <td>892521917</td>\n      <td>Tiki Solitaire TriPeaks</td>\n      <td>Tiki Solitaire TriPeaks: the classic Solitaire...</td>\n      <td>https://apps.apple.com/us/app/tiki-solitaire-t...</td>\n      <td>Games,Card,Puzzle</td>\n      <td>True</td>\n      <td>[no]</td>\n    </tr>\n    <tr>\n      <th>59980</th>\n      <td>net.peakgames.toonblast</td>\n      <td>Toon Blast</td>\n      <td>From the creators of Toy Blast comes the ultim...</td>\n      <td>https://play.google.com/store/apps/details?id=...</td>\n      <td>GAME_PUZZLE,GAME</td>\n      <td>False</td>\n      <td>[yes]</td>\n    </tr>\n    <tr>\n      <th>7478</th>\n      <td>com.alibaba.intl.android.apps.poseidon</td>\n      <td>Alibaba.com - B2B marketplace</td>\n      <td>What is Alibaba.com?\\nAlibaba.com is one of th...</td>\n      <td>https://play.google.com/store/apps/details?id=...</td>\n      <td>SHOPPING,APPLICATION</td>\n      <td>False</td>\n      <td>[no.]</td>\n    </tr>\n    <tr>\n      <th>51356</th>\n      <td>com.walmart.android</td>\n      <td>Walmart Shopping &amp; Grocery</td>\n      <td>Save money. Live better.\\n\\nThe Walmart app is...</td>\n      <td>https://play.google.com/store/apps/details?id=...</td>\n      <td>SHOPPING,APPLICATION</td>\n      <td>False</td>\n      <td>[:\\nno]</td>\n    </tr>\n    <tr>\n      <th>27431</th>\n      <td>com.inspiredsquare.jupiter</td>\n      <td>2248 - Number Puzzle Game</td>\n      <td>2248 Number Block Puzzle Game2248 Puzzle Game:...</td>\n      <td>https://play.google.com/store/apps/details?id=...</td>\n      <td>GAME_PUZZLE,GAME</td>\n      <td>False</td>\n      <td>[:\\nno]</td>\n    </tr>\n    <tr>\n      <th>49136</th>\n      <td>com.tripledot.woodoku</td>\n      <td>Woodoku - Block Puzzle Games</td>\n      <td>Woodoku: a wood block puzzle game meets a sudo...</td>\n      <td>https://play.google.com/store/apps/details?id=...</td>\n      <td>GAME_PUZZLE,GAME</td>\n      <td>False</td>\n      <td>[no]</td>\n    </tr>\n  </tbody>\n</table>\n</div>"
     },
     "execution_count": 16,
     "metadata": {},
     "output_type": "execute_result"
    }
   ],
   "source": [
    "df[\"Is the app for kids? naive\"] = df.apply(openai_ask_helper(\"Given the app description:\\n{description}\\n\\nIs it for kids?\\nAnswer only yes or no\", model_name=\"text-davinci-003\"),axis=1)\n",
    "df"
   ],
   "metadata": {
    "collapsed": false,
    "ExecuteTime": {
     "end_time": "2023-12-01T09:48:22.285861600Z",
     "start_time": "2023-12-01T09:48:18.787547400Z"
    }
   }
  },
  {
   "cell_type": "code",
   "execution_count": 18,
   "outputs": [
    {
     "data": {
      "text/plain": "                                               bundle_id                           title                                        description                                          store_url        category_names    ios Is the app for kids? naive Is the app for kids? logit bias\n26290                        com.hwqgrhhjfd.idlefastfood                      Eatventure  Are you looking to become a restaurant million...  https://play.google.com/store/apps/details?id=...  GAME_SIMULATION,GAME  False                      [no.]                         [False]\n60235  net.wooga.junes_journey_hidden_object_mystery_...  June's Journey: Hidden Objects  Are you ready to go on an exciting journey to ...  https://play.google.com/store/apps/details?id=...   GAME_ADVENTURE,GAME  False                    [:\\nno]                         [False]\n1373                                          1138264921    Match Masters ‎- PvP Match 3  Match 3 games - reinvented! Now with online mu...  https://apps.apple.com/us/app/match-masters-pv...   Games,Casual,Puzzle   True                       [no]                         [False]\n6673                                           892521917         Tiki Solitaire TriPeaks  Tiki Solitaire TriPeaks: the classic Solitaire...  https://apps.apple.com/us/app/tiki-solitaire-t...     Games,Card,Puzzle   True                       [no]                         [False]\n59980                            net.peakgames.toonblast                      Toon Blast  From the creators of Toy Blast comes the ultim...  https://play.google.com/store/apps/details?id=...      GAME_PUZZLE,GAME  False                      [yes]                          [True]\n7478              com.alibaba.intl.android.apps.poseidon   Alibaba.com - B2B marketplace  What is Alibaba.com?\\nAlibaba.com is one of th...  https://play.google.com/store/apps/details?id=...  SHOPPING,APPLICATION  False                      [no.]                         [False]\n51356                                com.walmart.android      Walmart Shopping & Grocery  Save money. Live better.\\n\\nThe Walmart app is...  https://play.google.com/store/apps/details?id=...  SHOPPING,APPLICATION  False                    [:\\nno]                         [False]\n27431                         com.inspiredsquare.jupiter       2248 - Number Puzzle Game  2248 Number Block Puzzle Game2248 Puzzle Game:...  https://play.google.com/store/apps/details?id=...      GAME_PUZZLE,GAME  False                    [:\\nno]                         [False]\n49136                              com.tripledot.woodoku    Woodoku - Block Puzzle Games  Woodoku: a wood block puzzle game meets a sudo...  https://play.google.com/store/apps/details?id=...      GAME_PUZZLE,GAME  False                       [no]                         [False]",
      "text/html": "<div>\n<style scoped>\n    .dataframe tbody tr th:only-of-type {\n        vertical-align: middle;\n    }\n\n    .dataframe tbody tr th {\n        vertical-align: top;\n    }\n\n    .dataframe thead th {\n        text-align: right;\n    }\n</style>\n<table border=\"1\" class=\"dataframe\">\n  <thead>\n    <tr style=\"text-align: right;\">\n      <th></th>\n      <th>bundle_id</th>\n      <th>title</th>\n      <th>description</th>\n      <th>store_url</th>\n      <th>category_names</th>\n      <th>ios</th>\n      <th>Is the app for kids? naive</th>\n      <th>Is the app for kids? logit bias</th>\n    </tr>\n  </thead>\n  <tbody>\n    <tr>\n      <th>26290</th>\n      <td>com.hwqgrhhjfd.idlefastfood</td>\n      <td>Eatventure</td>\n      <td>Are you looking to become a restaurant million...</td>\n      <td>https://play.google.com/store/apps/details?id=...</td>\n      <td>GAME_SIMULATION,GAME</td>\n      <td>False</td>\n      <td>[no.]</td>\n      <td>[False]</td>\n    </tr>\n    <tr>\n      <th>60235</th>\n      <td>net.wooga.junes_journey_hidden_object_mystery_...</td>\n      <td>June's Journey: Hidden Objects</td>\n      <td>Are you ready to go on an exciting journey to ...</td>\n      <td>https://play.google.com/store/apps/details?id=...</td>\n      <td>GAME_ADVENTURE,GAME</td>\n      <td>False</td>\n      <td>[:\\nno]</td>\n      <td>[False]</td>\n    </tr>\n    <tr>\n      <th>1373</th>\n      <td>1138264921</td>\n      <td>Match Masters ‎- PvP Match 3</td>\n      <td>Match 3 games - reinvented! Now with online mu...</td>\n      <td>https://apps.apple.com/us/app/match-masters-pv...</td>\n      <td>Games,Casual,Puzzle</td>\n      <td>True</td>\n      <td>[no]</td>\n      <td>[False]</td>\n    </tr>\n    <tr>\n      <th>6673</th>\n      <td>892521917</td>\n      <td>Tiki Solitaire TriPeaks</td>\n      <td>Tiki Solitaire TriPeaks: the classic Solitaire...</td>\n      <td>https://apps.apple.com/us/app/tiki-solitaire-t...</td>\n      <td>Games,Card,Puzzle</td>\n      <td>True</td>\n      <td>[no]</td>\n      <td>[False]</td>\n    </tr>\n    <tr>\n      <th>59980</th>\n      <td>net.peakgames.toonblast</td>\n      <td>Toon Blast</td>\n      <td>From the creators of Toy Blast comes the ultim...</td>\n      <td>https://play.google.com/store/apps/details?id=...</td>\n      <td>GAME_PUZZLE,GAME</td>\n      <td>False</td>\n      <td>[yes]</td>\n      <td>[True]</td>\n    </tr>\n    <tr>\n      <th>7478</th>\n      <td>com.alibaba.intl.android.apps.poseidon</td>\n      <td>Alibaba.com - B2B marketplace</td>\n      <td>What is Alibaba.com?\\nAlibaba.com is one of th...</td>\n      <td>https://play.google.com/store/apps/details?id=...</td>\n      <td>SHOPPING,APPLICATION</td>\n      <td>False</td>\n      <td>[no.]</td>\n      <td>[False]</td>\n    </tr>\n    <tr>\n      <th>51356</th>\n      <td>com.walmart.android</td>\n      <td>Walmart Shopping &amp; Grocery</td>\n      <td>Save money. Live better.\\n\\nThe Walmart app is...</td>\n      <td>https://play.google.com/store/apps/details?id=...</td>\n      <td>SHOPPING,APPLICATION</td>\n      <td>False</td>\n      <td>[:\\nno]</td>\n      <td>[False]</td>\n    </tr>\n    <tr>\n      <th>27431</th>\n      <td>com.inspiredsquare.jupiter</td>\n      <td>2248 - Number Puzzle Game</td>\n      <td>2248 Number Block Puzzle Game2248 Puzzle Game:...</td>\n      <td>https://play.google.com/store/apps/details?id=...</td>\n      <td>GAME_PUZZLE,GAME</td>\n      <td>False</td>\n      <td>[:\\nno]</td>\n      <td>[False]</td>\n    </tr>\n    <tr>\n      <th>49136</th>\n      <td>com.tripledot.woodoku</td>\n      <td>Woodoku - Block Puzzle Games</td>\n      <td>Woodoku: a wood block puzzle game meets a sudo...</td>\n      <td>https://play.google.com/store/apps/details?id=...</td>\n      <td>GAME_PUZZLE,GAME</td>\n      <td>False</td>\n      <td>[no]</td>\n      <td>[False]</td>\n    </tr>\n  </tbody>\n</table>\n</div>"
     },
     "execution_count": 18,
     "metadata": {},
     "output_type": "execute_result"
    }
   ],
   "source": [
    "df[\"Is the app for kids? logit bias\"] = df.apply(openai_ask_verbelizer(\"Given the app description:\\n{description}\\n\\nIs it for kids?\\nAnswer only yes or no\"),axis=1)\n",
    "df"
   ],
   "metadata": {
    "collapsed": false,
    "ExecuteTime": {
     "end_time": "2023-12-01T09:48:48.455323500Z",
     "start_time": "2023-12-01T09:48:44.552721100Z"
    }
   }
  },
  {
   "cell_type": "code",
   "execution_count": null,
   "outputs": [],
   "source": [],
   "metadata": {
    "collapsed": false
   }
  }
 ],
 "metadata": {
  "kernelspec": {
   "display_name": "Python 3 (ipykernel)",
   "language": "python",
   "name": "python3"
  },
  "language_info": {
   "codemirror_mode": {
    "name": "ipython",
    "version": 3
   },
   "file_extension": ".py",
   "mimetype": "text/x-python",
   "name": "python",
   "nbconvert_exporter": "python",
   "pygments_lexer": "ipython3",
   "version": "3.11.5"
  }
 },
 "nbformat": 4,
 "nbformat_minor": 4
}
