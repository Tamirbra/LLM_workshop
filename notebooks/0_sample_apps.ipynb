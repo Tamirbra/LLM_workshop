{
 "cells": [
  {
   "cell_type": "code",
   "execution_count": 1,
   "metadata": {
    "ExecuteTime": {
     "end_time": "2023-12-03T07:57:46.629224800Z",
     "start_time": "2023-12-03T07:57:45.004096600Z"
    }
   },
   "outputs": [
    {
     "name": "stdout",
     "output_type": "stream",
     "text": [
      "C:\\Users\\TamirBracha\\llm_workshop\\data\\sample_apps.parquet\n"
     ]
    }
   ],
   "source": [
    "import sys, json, re\n",
    "import pandas as pd\n",
    "from pathlib import Path\n",
    "from decouple import config\n",
    "sys.path.append(\"../src/\")\n",
    "from llm_helpers import chatgpt_ask, openai_ask_verbelizer\n",
    "\n",
    "pd.set_option('display.max_columns', 1000, 'display.width', 1000, 'display.max_rows',1000)\n",
    "\n",
    "data_dir = Path(\".\").absolute().parent/\"data\"\n",
    "ls = lambda p:print(\"\\n\".join(map(str,p.iterdir())))\n",
    "\n",
    "ls(data_dir)"
   ]
  },
  {
   "cell_type": "code",
   "execution_count": null,
   "metadata": {
    "is_executing": true
   },
   "outputs": [],
   "source": [
    "df = pd.read_parquet(data_dir / \"sample_apps.parquet\").sample(9)\n",
    "df"
   ]
  },
  {
   "cell_type": "markdown",
   "metadata": {},
   "source": [
    "## Ask ChatGPT a question on every row"
   ]
  },
  {
   "cell_type": "code",
   "execution_count": 4,
   "metadata": {
    "ExecuteTime": {
     "end_time": "2023-12-01T09:25:01.317902Z",
     "start_time": "2023-12-01T09:24:51.357889900Z"
    }
   },
   "outputs": [
    {
     "data": {
      "text/plain": "                         bundle_id                           title                                        description                                          store_url                         category_names    ios for_kids_verbelizer for_kids\n13376               com.bumble.app  Bumble - Dating. Friends. Bizz  Millions of people have signed up to Bumble to...  https://play.google.com/store/apps/details?id=...                     DATING,APPLICATION  False             [False]       No\n35146    com.moonactive.coinmaster                     Coin Master  Join your Facebook friends and millions of pla...  https://play.google.com/store/apps/details?id=...                       GAME_CASUAL,GAME  False             [False]      No.\n5959                     664575829                         Fishdom  Never Fishdomed before? Then take a deep breat...  https://apps.apple.com/us/app/fishdom/id664575...  Games,Puzzle,Entertainment,Simulation   True             [False]      Yes\n21686    com.futureplay.mergematch                   Merge Gardens  Do you dream about your own gentle garden? You...  https://play.google.com/store/apps/details?id=...                       GAME_PUZZLE,GAME  False             [False]      Yes\n6673                     892521917         Tiki Solitaire TriPeaks  Tiki Solitaire TriPeaks: the classic Solitaire...  https://apps.apple.com/us/app/tiki-solitaire-t...                      Games,Card,Puzzle   True             [False]      Yes\n39809  com.playrix.fishdomdd.gplay                         Fishdom  Never Fishdomed before? Take a deep breath and...  https://play.google.com/store/apps/details?id=...                       GAME_PUZZLE,GAME  False             [False]     Yes.\n49136        com.tripledot.woodoku    Woodoku - Block Puzzle Games  Woodoku: a wood block puzzle game meets a sudo...  https://play.google.com/store/apps/details?id=...                       GAME_PUZZLE,GAME  False             [False]      No.\n17799    com.dreamgames.royalmatch                     Royal Match  Welcome to Royal Match, the king of puzzle gam...  https://play.google.com/store/apps/details?id=...                       GAME_PUZZLE,GAME  False             [False]       No\n39810     com.playrix.gardenscapes                    Gardenscapes  Welcome to Gardenscapes—the first hit from Pla...  https://play.google.com/store/apps/details?id=...                       GAME_CASUAL,GAME  False             [False]     Yes.",
      "text/html": "<div>\n<style scoped>\n    .dataframe tbody tr th:only-of-type {\n        vertical-align: middle;\n    }\n\n    .dataframe tbody tr th {\n        vertical-align: top;\n    }\n\n    .dataframe thead th {\n        text-align: right;\n    }\n</style>\n<table border=\"1\" class=\"dataframe\">\n  <thead>\n    <tr style=\"text-align: right;\">\n      <th></th>\n      <th>bundle_id</th>\n      <th>title</th>\n      <th>description</th>\n      <th>store_url</th>\n      <th>category_names</th>\n      <th>ios</th>\n      <th>for_kids_verbelizer</th>\n      <th>for_kids</th>\n    </tr>\n  </thead>\n  <tbody>\n    <tr>\n      <th>13376</th>\n      <td>com.bumble.app</td>\n      <td>Bumble - Dating. Friends. Bizz</td>\n      <td>Millions of people have signed up to Bumble to...</td>\n      <td>https://play.google.com/store/apps/details?id=...</td>\n      <td>DATING,APPLICATION</td>\n      <td>False</td>\n      <td>[False]</td>\n      <td>No</td>\n    </tr>\n    <tr>\n      <th>35146</th>\n      <td>com.moonactive.coinmaster</td>\n      <td>Coin Master</td>\n      <td>Join your Facebook friends and millions of pla...</td>\n      <td>https://play.google.com/store/apps/details?id=...</td>\n      <td>GAME_CASUAL,GAME</td>\n      <td>False</td>\n      <td>[False]</td>\n      <td>No.</td>\n    </tr>\n    <tr>\n      <th>5959</th>\n      <td>664575829</td>\n      <td>Fishdom</td>\n      <td>Never Fishdomed before? Then take a deep breat...</td>\n      <td>https://apps.apple.com/us/app/fishdom/id664575...</td>\n      <td>Games,Puzzle,Entertainment,Simulation</td>\n      <td>True</td>\n      <td>[False]</td>\n      <td>Yes</td>\n    </tr>\n    <tr>\n      <th>21686</th>\n      <td>com.futureplay.mergematch</td>\n      <td>Merge Gardens</td>\n      <td>Do you dream about your own gentle garden? You...</td>\n      <td>https://play.google.com/store/apps/details?id=...</td>\n      <td>GAME_PUZZLE,GAME</td>\n      <td>False</td>\n      <td>[False]</td>\n      <td>Yes</td>\n    </tr>\n    <tr>\n      <th>6673</th>\n      <td>892521917</td>\n      <td>Tiki Solitaire TriPeaks</td>\n      <td>Tiki Solitaire TriPeaks: the classic Solitaire...</td>\n      <td>https://apps.apple.com/us/app/tiki-solitaire-t...</td>\n      <td>Games,Card,Puzzle</td>\n      <td>True</td>\n      <td>[False]</td>\n      <td>Yes</td>\n    </tr>\n    <tr>\n      <th>39809</th>\n      <td>com.playrix.fishdomdd.gplay</td>\n      <td>Fishdom</td>\n      <td>Never Fishdomed before? Take a deep breath and...</td>\n      <td>https://play.google.com/store/apps/details?id=...</td>\n      <td>GAME_PUZZLE,GAME</td>\n      <td>False</td>\n      <td>[False]</td>\n      <td>Yes.</td>\n    </tr>\n    <tr>\n      <th>49136</th>\n      <td>com.tripledot.woodoku</td>\n      <td>Woodoku - Block Puzzle Games</td>\n      <td>Woodoku: a wood block puzzle game meets a sudo...</td>\n      <td>https://play.google.com/store/apps/details?id=...</td>\n      <td>GAME_PUZZLE,GAME</td>\n      <td>False</td>\n      <td>[False]</td>\n      <td>No.</td>\n    </tr>\n    <tr>\n      <th>17799</th>\n      <td>com.dreamgames.royalmatch</td>\n      <td>Royal Match</td>\n      <td>Welcome to Royal Match, the king of puzzle gam...</td>\n      <td>https://play.google.com/store/apps/details?id=...</td>\n      <td>GAME_PUZZLE,GAME</td>\n      <td>False</td>\n      <td>[False]</td>\n      <td>No</td>\n    </tr>\n    <tr>\n      <th>39810</th>\n      <td>com.playrix.gardenscapes</td>\n      <td>Gardenscapes</td>\n      <td>Welcome to Gardenscapes—the first hit from Pla...</td>\n      <td>https://play.google.com/store/apps/details?id=...</td>\n      <td>GAME_CASUAL,GAME</td>\n      <td>False</td>\n      <td>[False]</td>\n      <td>Yes.</td>\n    </tr>\n  </tbody>\n</table>\n</div>"
     },
     "execution_count": 4,
     "metadata": {},
     "output_type": "execute_result"
    }
   ],
   "source": [
    "df[\"for_kids\"] = df.apply(chatgpt_ask(\"Given the app description:\\n{description}\\n\\nIs it for kids?\\nAnswer only yes or no\"),axis=1)\n",
    "df"
   ]
  },
  {
   "cell_type": "markdown",
   "metadata": {},
   "source": [
    "## Question:\n",
    "Please rewrite the code such that the response to a yes/no question would be boolean (`True` or `False`)"
   ]
  },
  {
   "cell_type": "code",
   "execution_count": 5,
   "metadata": {
    "ExecuteTime": {
     "end_time": "2023-12-01T09:25:01.391442200Z",
     "start_time": "2023-12-01T09:25:01.330435200Z"
    }
   },
   "outputs": [
    {
     "data": {
      "text/plain": "                         bundle_id                           title                                        description                                          store_url                         category_names    ios for_kids_verbelizer for_kids  for_kids_bool\n13376               com.bumble.app  Bumble - Dating. Friends. Bizz  Millions of people have signed up to Bumble to...  https://play.google.com/store/apps/details?id=...                     DATING,APPLICATION  False             [False]       No          False\n35146    com.moonactive.coinmaster                     Coin Master  Join your Facebook friends and millions of pla...  https://play.google.com/store/apps/details?id=...                       GAME_CASUAL,GAME  False             [False]      No.          False\n5959                     664575829                         Fishdom  Never Fishdomed before? Then take a deep breat...  https://apps.apple.com/us/app/fishdom/id664575...  Games,Puzzle,Entertainment,Simulation   True             [False]      Yes           True\n21686    com.futureplay.mergematch                   Merge Gardens  Do you dream about your own gentle garden? You...  https://play.google.com/store/apps/details?id=...                       GAME_PUZZLE,GAME  False             [False]      Yes           True\n6673                     892521917         Tiki Solitaire TriPeaks  Tiki Solitaire TriPeaks: the classic Solitaire...  https://apps.apple.com/us/app/tiki-solitaire-t...                      Games,Card,Puzzle   True             [False]      Yes           True\n39809  com.playrix.fishdomdd.gplay                         Fishdom  Never Fishdomed before? Take a deep breath and...  https://play.google.com/store/apps/details?id=...                       GAME_PUZZLE,GAME  False             [False]     Yes.           True\n49136        com.tripledot.woodoku    Woodoku - Block Puzzle Games  Woodoku: a wood block puzzle game meets a sudo...  https://play.google.com/store/apps/details?id=...                       GAME_PUZZLE,GAME  False             [False]      No.          False\n17799    com.dreamgames.royalmatch                     Royal Match  Welcome to Royal Match, the king of puzzle gam...  https://play.google.com/store/apps/details?id=...                       GAME_PUZZLE,GAME  False             [False]       No          False\n39810     com.playrix.gardenscapes                    Gardenscapes  Welcome to Gardenscapes—the first hit from Pla...  https://play.google.com/store/apps/details?id=...                       GAME_CASUAL,GAME  False             [False]     Yes.           True",
      "text/html": "<div>\n<style scoped>\n    .dataframe tbody tr th:only-of-type {\n        vertical-align: middle;\n    }\n\n    .dataframe tbody tr th {\n        vertical-align: top;\n    }\n\n    .dataframe thead th {\n        text-align: right;\n    }\n</style>\n<table border=\"1\" class=\"dataframe\">\n  <thead>\n    <tr style=\"text-align: right;\">\n      <th></th>\n      <th>bundle_id</th>\n      <th>title</th>\n      <th>description</th>\n      <th>store_url</th>\n      <th>category_names</th>\n      <th>ios</th>\n      <th>for_kids_verbelizer</th>\n      <th>for_kids</th>\n      <th>for_kids_bool</th>\n    </tr>\n  </thead>\n  <tbody>\n    <tr>\n      <th>13376</th>\n      <td>com.bumble.app</td>\n      <td>Bumble - Dating. Friends. Bizz</td>\n      <td>Millions of people have signed up to Bumble to...</td>\n      <td>https://play.google.com/store/apps/details?id=...</td>\n      <td>DATING,APPLICATION</td>\n      <td>False</td>\n      <td>[False]</td>\n      <td>No</td>\n      <td>False</td>\n    </tr>\n    <tr>\n      <th>35146</th>\n      <td>com.moonactive.coinmaster</td>\n      <td>Coin Master</td>\n      <td>Join your Facebook friends and millions of pla...</td>\n      <td>https://play.google.com/store/apps/details?id=...</td>\n      <td>GAME_CASUAL,GAME</td>\n      <td>False</td>\n      <td>[False]</td>\n      <td>No.</td>\n      <td>False</td>\n    </tr>\n    <tr>\n      <th>5959</th>\n      <td>664575829</td>\n      <td>Fishdom</td>\n      <td>Never Fishdomed before? Then take a deep breat...</td>\n      <td>https://apps.apple.com/us/app/fishdom/id664575...</td>\n      <td>Games,Puzzle,Entertainment,Simulation</td>\n      <td>True</td>\n      <td>[False]</td>\n      <td>Yes</td>\n      <td>True</td>\n    </tr>\n    <tr>\n      <th>21686</th>\n      <td>com.futureplay.mergematch</td>\n      <td>Merge Gardens</td>\n      <td>Do you dream about your own gentle garden? You...</td>\n      <td>https://play.google.com/store/apps/details?id=...</td>\n      <td>GAME_PUZZLE,GAME</td>\n      <td>False</td>\n      <td>[False]</td>\n      <td>Yes</td>\n      <td>True</td>\n    </tr>\n    <tr>\n      <th>6673</th>\n      <td>892521917</td>\n      <td>Tiki Solitaire TriPeaks</td>\n      <td>Tiki Solitaire TriPeaks: the classic Solitaire...</td>\n      <td>https://apps.apple.com/us/app/tiki-solitaire-t...</td>\n      <td>Games,Card,Puzzle</td>\n      <td>True</td>\n      <td>[False]</td>\n      <td>Yes</td>\n      <td>True</td>\n    </tr>\n    <tr>\n      <th>39809</th>\n      <td>com.playrix.fishdomdd.gplay</td>\n      <td>Fishdom</td>\n      <td>Never Fishdomed before? Take a deep breath and...</td>\n      <td>https://play.google.com/store/apps/details?id=...</td>\n      <td>GAME_PUZZLE,GAME</td>\n      <td>False</td>\n      <td>[False]</td>\n      <td>Yes.</td>\n      <td>True</td>\n    </tr>\n    <tr>\n      <th>49136</th>\n      <td>com.tripledot.woodoku</td>\n      <td>Woodoku - Block Puzzle Games</td>\n      <td>Woodoku: a wood block puzzle game meets a sudo...</td>\n      <td>https://play.google.com/store/apps/details?id=...</td>\n      <td>GAME_PUZZLE,GAME</td>\n      <td>False</td>\n      <td>[False]</td>\n      <td>No.</td>\n      <td>False</td>\n    </tr>\n    <tr>\n      <th>17799</th>\n      <td>com.dreamgames.royalmatch</td>\n      <td>Royal Match</td>\n      <td>Welcome to Royal Match, the king of puzzle gam...</td>\n      <td>https://play.google.com/store/apps/details?id=...</td>\n      <td>GAME_PUZZLE,GAME</td>\n      <td>False</td>\n      <td>[False]</td>\n      <td>No</td>\n      <td>False</td>\n    </tr>\n    <tr>\n      <th>39810</th>\n      <td>com.playrix.gardenscapes</td>\n      <td>Gardenscapes</td>\n      <td>Welcome to Gardenscapes—the first hit from Pla...</td>\n      <td>https://play.google.com/store/apps/details?id=...</td>\n      <td>GAME_CASUAL,GAME</td>\n      <td>False</td>\n      <td>[False]</td>\n      <td>Yes.</td>\n      <td>True</td>\n    </tr>\n  </tbody>\n</table>\n</div>"
     },
     "execution_count": 5,
     "metadata": {},
     "output_type": "execute_result"
    }
   ],
   "source": [
    "df[\"for_kids_bool\"] = df[\"for_kids\"].str.strip('.').str.lower()==\"yes\"\n",
    "df"
   ]
  },
  {
   "cell_type": "code",
   "execution_count": 5,
   "metadata": {
    "ExecuteTime": {
     "end_time": "2023-12-01T09:25:01.424935300Z",
     "start_time": "2023-12-01T09:25:01.351432900Z"
    }
   },
   "outputs": [],
   "source": []
  },
  {
   "cell_type": "code",
   "execution_count": 6,
   "outputs": [
    {
     "data": {
      "text/plain": "                         bundle_id                           title                                        description                                          store_url                         category_names    ios for_kids_verbelizer for_kids  for_kids_bool\n13376               com.bumble.app  Bumble - Dating. Friends. Bizz  Millions of people have signed up to Bumble to...  https://play.google.com/store/apps/details?id=...                     DATING,APPLICATION  False             [False]       No          False\n35146    com.moonactive.coinmaster                     Coin Master  Join your Facebook friends and millions of pla...  https://play.google.com/store/apps/details?id=...                       GAME_CASUAL,GAME  False             [False]      No.          False\n5959                     664575829                         Fishdom  Never Fishdomed before? Then take a deep breat...  https://apps.apple.com/us/app/fishdom/id664575...  Games,Puzzle,Entertainment,Simulation   True             [False]      Yes           True\n21686    com.futureplay.mergematch                   Merge Gardens  Do you dream about your own gentle garden? You...  https://play.google.com/store/apps/details?id=...                       GAME_PUZZLE,GAME  False             [False]      Yes           True\n6673                     892521917         Tiki Solitaire TriPeaks  Tiki Solitaire TriPeaks: the classic Solitaire...  https://apps.apple.com/us/app/tiki-solitaire-t...                      Games,Card,Puzzle   True             [False]      Yes           True\n39809  com.playrix.fishdomdd.gplay                         Fishdom  Never Fishdomed before? Take a deep breath and...  https://play.google.com/store/apps/details?id=...                       GAME_PUZZLE,GAME  False             [False]     Yes.           True\n49136        com.tripledot.woodoku    Woodoku - Block Puzzle Games  Woodoku: a wood block puzzle game meets a sudo...  https://play.google.com/store/apps/details?id=...                       GAME_PUZZLE,GAME  False             [False]      No.          False\n17799    com.dreamgames.royalmatch                     Royal Match  Welcome to Royal Match, the king of puzzle gam...  https://play.google.com/store/apps/details?id=...                       GAME_PUZZLE,GAME  False             [False]       No          False\n39810     com.playrix.gardenscapes                    Gardenscapes  Welcome to Gardenscapes—the first hit from Pla...  https://play.google.com/store/apps/details?id=...                       GAME_CASUAL,GAME  False             [False]     Yes.           True",
      "text/html": "<div>\n<style scoped>\n    .dataframe tbody tr th:only-of-type {\n        vertical-align: middle;\n    }\n\n    .dataframe tbody tr th {\n        vertical-align: top;\n    }\n\n    .dataframe thead th {\n        text-align: right;\n    }\n</style>\n<table border=\"1\" class=\"dataframe\">\n  <thead>\n    <tr style=\"text-align: right;\">\n      <th></th>\n      <th>bundle_id</th>\n      <th>title</th>\n      <th>description</th>\n      <th>store_url</th>\n      <th>category_names</th>\n      <th>ios</th>\n      <th>for_kids_verbelizer</th>\n      <th>for_kids</th>\n      <th>for_kids_bool</th>\n    </tr>\n  </thead>\n  <tbody>\n    <tr>\n      <th>13376</th>\n      <td>com.bumble.app</td>\n      <td>Bumble - Dating. Friends. Bizz</td>\n      <td>Millions of people have signed up to Bumble to...</td>\n      <td>https://play.google.com/store/apps/details?id=...</td>\n      <td>DATING,APPLICATION</td>\n      <td>False</td>\n      <td>[False]</td>\n      <td>No</td>\n      <td>False</td>\n    </tr>\n    <tr>\n      <th>35146</th>\n      <td>com.moonactive.coinmaster</td>\n      <td>Coin Master</td>\n      <td>Join your Facebook friends and millions of pla...</td>\n      <td>https://play.google.com/store/apps/details?id=...</td>\n      <td>GAME_CASUAL,GAME</td>\n      <td>False</td>\n      <td>[False]</td>\n      <td>No.</td>\n      <td>False</td>\n    </tr>\n    <tr>\n      <th>5959</th>\n      <td>664575829</td>\n      <td>Fishdom</td>\n      <td>Never Fishdomed before? Then take a deep breat...</td>\n      <td>https://apps.apple.com/us/app/fishdom/id664575...</td>\n      <td>Games,Puzzle,Entertainment,Simulation</td>\n      <td>True</td>\n      <td>[False]</td>\n      <td>Yes</td>\n      <td>True</td>\n    </tr>\n    <tr>\n      <th>21686</th>\n      <td>com.futureplay.mergematch</td>\n      <td>Merge Gardens</td>\n      <td>Do you dream about your own gentle garden? You...</td>\n      <td>https://play.google.com/store/apps/details?id=...</td>\n      <td>GAME_PUZZLE,GAME</td>\n      <td>False</td>\n      <td>[False]</td>\n      <td>Yes</td>\n      <td>True</td>\n    </tr>\n    <tr>\n      <th>6673</th>\n      <td>892521917</td>\n      <td>Tiki Solitaire TriPeaks</td>\n      <td>Tiki Solitaire TriPeaks: the classic Solitaire...</td>\n      <td>https://apps.apple.com/us/app/tiki-solitaire-t...</td>\n      <td>Games,Card,Puzzle</td>\n      <td>True</td>\n      <td>[False]</td>\n      <td>Yes</td>\n      <td>True</td>\n    </tr>\n    <tr>\n      <th>39809</th>\n      <td>com.playrix.fishdomdd.gplay</td>\n      <td>Fishdom</td>\n      <td>Never Fishdomed before? Take a deep breath and...</td>\n      <td>https://play.google.com/store/apps/details?id=...</td>\n      <td>GAME_PUZZLE,GAME</td>\n      <td>False</td>\n      <td>[False]</td>\n      <td>Yes.</td>\n      <td>True</td>\n    </tr>\n    <tr>\n      <th>49136</th>\n      <td>com.tripledot.woodoku</td>\n      <td>Woodoku - Block Puzzle Games</td>\n      <td>Woodoku: a wood block puzzle game meets a sudo...</td>\n      <td>https://play.google.com/store/apps/details?id=...</td>\n      <td>GAME_PUZZLE,GAME</td>\n      <td>False</td>\n      <td>[False]</td>\n      <td>No.</td>\n      <td>False</td>\n    </tr>\n    <tr>\n      <th>17799</th>\n      <td>com.dreamgames.royalmatch</td>\n      <td>Royal Match</td>\n      <td>Welcome to Royal Match, the king of puzzle gam...</td>\n      <td>https://play.google.com/store/apps/details?id=...</td>\n      <td>GAME_PUZZLE,GAME</td>\n      <td>False</td>\n      <td>[False]</td>\n      <td>No</td>\n      <td>False</td>\n    </tr>\n    <tr>\n      <th>39810</th>\n      <td>com.playrix.gardenscapes</td>\n      <td>Gardenscapes</td>\n      <td>Welcome to Gardenscapes—the first hit from Pla...</td>\n      <td>https://play.google.com/store/apps/details?id=...</td>\n      <td>GAME_CASUAL,GAME</td>\n      <td>False</td>\n      <td>[False]</td>\n      <td>Yes.</td>\n      <td>True</td>\n    </tr>\n  </tbody>\n</table>\n</div>"
     },
     "execution_count": 6,
     "metadata": {},
     "output_type": "execute_result"
    }
   ],
   "source": [
    "df[\"for_kids_verbelizer\"] = df.apply(openai_ask_verbelizer(\"Given the app description:\\n{description}\\n\\nIs it for kids?\\nAnswer only yes or no\"),axis=1)\n",
    "df"
   ],
   "metadata": {
    "collapsed": false,
    "ExecuteTime": {
     "end_time": "2023-12-01T09:25:04.908564Z",
     "start_time": "2023-12-01T09:25:01.367440200Z"
    }
   }
  },
  {
   "cell_type": "code",
   "execution_count": 6,
   "outputs": [],
   "source": [],
   "metadata": {
    "collapsed": false,
    "ExecuteTime": {
     "end_time": "2023-12-01T09:25:04.919063500Z",
     "start_time": "2023-12-01T09:25:04.909106800Z"
    }
   }
  }
 ],
 "metadata": {
  "kernelspec": {
   "display_name": "Python 3 (ipykernel)",
   "language": "python",
   "name": "python3"
  },
  "language_info": {
   "codemirror_mode": {
    "name": "ipython",
    "version": 3
   },
   "file_extension": ".py",
   "mimetype": "text/x-python",
   "name": "python",
   "nbconvert_exporter": "python",
   "pygments_lexer": "ipython3",
   "version": "3.11.5"
  }
 },
 "nbformat": 4,
 "nbformat_minor": 4
}
