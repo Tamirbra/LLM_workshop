{
 "cells": [
  {
   "cell_type": "code",
   "execution_count": 17,
   "metadata": {
    "ExecuteTime": {
     "end_time": "2023-12-02T09:36:38.812437300Z",
     "start_time": "2023-12-02T09:36:38.779086200Z"
    }
   },
   "outputs": [
    {
     "name": "stdout",
     "output_type": "stream",
     "text": [
      "C:\\Users\\TamirBracha\\LLM\\llm_workshop\\data\\sample_apps.parquet\n"
     ]
    }
   ],
   "source": [
    "import sys, json, re, collections\n",
    "import pandas as pd\n",
    "from pathlib import Path\n",
    "from decouple import config\n",
    "sys.path.append(\"../src/\")\n",
    "from llm_helpers import openai_client, chat_gpt_ask_functions_multiclass, chat_gpt_ask_functions_most_likley\n",
    "\n",
    "pd.set_option('display.max_columns', 1000, 'display.width', 1000, 'display.max_rows',1000)\n",
    "\n",
    "data_dir = Path(\".\").absolute().parent/\"data\"\n",
    "ls = lambda p:print(\"\\n\".join(map(str,p.iterdir())))\n",
    "\n",
    "ls(data_dir)"
   ]
  },
  {
   "cell_type": "code",
   "execution_count": 18,
   "metadata": {
    "ExecuteTime": {
     "end_time": "2023-12-02T09:36:39.716231200Z",
     "start_time": "2023-12-02T09:36:39.482472500Z"
    }
   },
   "outputs": [
    {
     "data": {
      "text/plain": "                                    bundle_id                           title                                        description                                          store_url                category_names    ios\n5315                                530168168                      Paramount+  Welcome to A Mountain of Entertainment. Stream...  https://apps.apple.com/us/app/paramount/id5301...                 Entertainment   True\n24056              com.gramgames.mergedragons                  Merge Dragons!  Discover a magical land of entertainment and m...  https://play.google.com/store/apps/details?id=...              GAME_PUZZLE,GAME  False\n35146               com.moonactive.coinmaster                     Coin Master  Join your Facebook friends and millions of pla...  https://play.google.com/store/apps/details?id=...              GAME_CASUAL,GAME  False\n60188                net.supertreat.solitaire         Solitaire Grand Harvest  Welcome to Solitaire Grand Harvest! Play this ...  https://play.google.com/store/apps/details?id=...                GAME_CARD,GAME  False\n54216                  de.cellular.ottohybrid         OTTO – Shopping & Möbel  Install the OTTO app now 📲 and shop fashion tr...  https://play.google.com/store/apps/details?id=...          SHOPPING,APPLICATION  False\n383     air.com.buffalo_studios.newflashbingo     Bingo Blitz™️ - Bingo Games  Experience your free online bingo game as you ...  https://play.google.com/store/apps/details?id=...               GAME_BOARD,GAME  False\n24041                  com.grabtaxi.passenger                   Grab Superapp  Grab is Southeast Asia’s leading superapp. We ...  https://play.google.com/store/apps/details?id=...  TRAVEL_AND_LOCAL,APPLICATION  False\n7478   com.alibaba.intl.android.apps.poseidon   Alibaba.com - B2B marketplace  What is Alibaba.com?\\nAlibaba.com is one of th...  https://play.google.com/store/apps/details?id=...          SHOPPING,APPLICATION  False\n659               air.com.playtika.slotomania  Slotomania™ Slots Casino Games  Slotomania wishes you a Happy New Year! Play n...  https://play.google.com/store/apps/details?id=...              GAME_CASINO,GAME  False",
      "text/html": "<div>\n<style scoped>\n    .dataframe tbody tr th:only-of-type {\n        vertical-align: middle;\n    }\n\n    .dataframe tbody tr th {\n        vertical-align: top;\n    }\n\n    .dataframe thead th {\n        text-align: right;\n    }\n</style>\n<table border=\"1\" class=\"dataframe\">\n  <thead>\n    <tr style=\"text-align: right;\">\n      <th></th>\n      <th>bundle_id</th>\n      <th>title</th>\n      <th>description</th>\n      <th>store_url</th>\n      <th>category_names</th>\n      <th>ios</th>\n    </tr>\n  </thead>\n  <tbody>\n    <tr>\n      <th>5315</th>\n      <td>530168168</td>\n      <td>Paramount+</td>\n      <td>Welcome to A Mountain of Entertainment. Stream...</td>\n      <td>https://apps.apple.com/us/app/paramount/id5301...</td>\n      <td>Entertainment</td>\n      <td>True</td>\n    </tr>\n    <tr>\n      <th>24056</th>\n      <td>com.gramgames.mergedragons</td>\n      <td>Merge Dragons!</td>\n      <td>Discover a magical land of entertainment and m...</td>\n      <td>https://play.google.com/store/apps/details?id=...</td>\n      <td>GAME_PUZZLE,GAME</td>\n      <td>False</td>\n    </tr>\n    <tr>\n      <th>35146</th>\n      <td>com.moonactive.coinmaster</td>\n      <td>Coin Master</td>\n      <td>Join your Facebook friends and millions of pla...</td>\n      <td>https://play.google.com/store/apps/details?id=...</td>\n      <td>GAME_CASUAL,GAME</td>\n      <td>False</td>\n    </tr>\n    <tr>\n      <th>60188</th>\n      <td>net.supertreat.solitaire</td>\n      <td>Solitaire Grand Harvest</td>\n      <td>Welcome to Solitaire Grand Harvest! Play this ...</td>\n      <td>https://play.google.com/store/apps/details?id=...</td>\n      <td>GAME_CARD,GAME</td>\n      <td>False</td>\n    </tr>\n    <tr>\n      <th>54216</th>\n      <td>de.cellular.ottohybrid</td>\n      <td>OTTO – Shopping &amp; Möbel</td>\n      <td>Install the OTTO app now 📲 and shop fashion tr...</td>\n      <td>https://play.google.com/store/apps/details?id=...</td>\n      <td>SHOPPING,APPLICATION</td>\n      <td>False</td>\n    </tr>\n    <tr>\n      <th>383</th>\n      <td>air.com.buffalo_studios.newflashbingo</td>\n      <td>Bingo Blitz™️ - Bingo Games</td>\n      <td>Experience your free online bingo game as you ...</td>\n      <td>https://play.google.com/store/apps/details?id=...</td>\n      <td>GAME_BOARD,GAME</td>\n      <td>False</td>\n    </tr>\n    <tr>\n      <th>24041</th>\n      <td>com.grabtaxi.passenger</td>\n      <td>Grab Superapp</td>\n      <td>Grab is Southeast Asia’s leading superapp. We ...</td>\n      <td>https://play.google.com/store/apps/details?id=...</td>\n      <td>TRAVEL_AND_LOCAL,APPLICATION</td>\n      <td>False</td>\n    </tr>\n    <tr>\n      <th>7478</th>\n      <td>com.alibaba.intl.android.apps.poseidon</td>\n      <td>Alibaba.com - B2B marketplace</td>\n      <td>What is Alibaba.com?\\nAlibaba.com is one of th...</td>\n      <td>https://play.google.com/store/apps/details?id=...</td>\n      <td>SHOPPING,APPLICATION</td>\n      <td>False</td>\n    </tr>\n    <tr>\n      <th>659</th>\n      <td>air.com.playtika.slotomania</td>\n      <td>Slotomania™ Slots Casino Games</td>\n      <td>Slotomania wishes you a Happy New Year! Play n...</td>\n      <td>https://play.google.com/store/apps/details?id=...</td>\n      <td>GAME_CASINO,GAME</td>\n      <td>False</td>\n    </tr>\n  </tbody>\n</table>\n</div>"
     },
     "execution_count": 18,
     "metadata": {},
     "output_type": "execute_result"
    }
   ],
   "source": [
    "df = pd.read_parquet(data_dir / \"sample_apps.parquet\").sample(9)\n",
    "df"
   ]
  },
  {
   "cell_type": "code",
   "execution_count": 19,
   "metadata": {
    "ExecuteTime": {
     "end_time": "2023-12-02T09:36:40.216553800Z",
     "start_time": "2023-12-02T09:36:40.192552400Z"
    }
   },
   "outputs": [
    {
     "data": {
      "text/plain": "category_names\ngame                5\napplication         3\nshopping            2\nentertainment       1\ngame_puzzle         1\ngame_casual         1\ngame_card           1\ngame_board          1\ntravel_and_local    1\ngame_casino         1\nName: count, dtype: int64"
     },
     "execution_count": 19,
     "metadata": {},
     "output_type": "execute_result"
    }
   ],
   "source": [
    "categories = df[\"category_names\"].str.lower().str.split(',').explode().value_counts()\n",
    "categories"
   ]
  },
  {
   "cell_type": "markdown",
   "metadata": {},
   "source": [
    "## Naive approach, just Ask nicely."
   ]
  },
  {
   "cell_type": "code",
   "execution_count": 20,
   "metadata": {
    "ExecuteTime": {
     "end_time": "2023-12-02T09:36:41.329510500Z",
     "start_time": "2023-12-02T09:36:41.307218600Z"
    }
   },
   "outputs": [],
   "source": [
    "def openai_ask(prompts):\n",
    "    response = openai_client.completions.create(\n",
    "        model=\"text-davinci-003\",\n",
    "        prompt=prompts,\n",
    "    )\n",
    "    ret = [choice.text.strip().lower() for choice in response.choices]\n",
    "    return ret\n"
   ]
  },
  {
   "cell_type": "code",
   "execution_count": 21,
   "metadata": {
    "ExecuteTime": {
     "end_time": "2023-12-02T09:36:42.798195100Z",
     "start_time": "2023-12-02T09:36:41.826463200Z"
    }
   },
   "outputs": [
    {
     "data": {
      "text/plain": "['game_puzzle']"
     },
     "execution_count": 21,
     "metadata": {},
     "output_type": "execute_result"
    }
   ],
   "source": [
    "prompt = \"please choose the most likely category that apply to 'Crossword Jam' from the following list:\\n\"\n",
    "prompt+=\"\\n\".join(categories.index)\n",
    "openai_ask(prompt)"
   ]
  },
  {
   "cell_type": "code",
   "execution_count": 22,
   "metadata": {
    "ExecuteTime": {
     "end_time": "2023-12-02T09:36:43.233992800Z",
     "start_time": "2023-12-02T09:36:42.806955900Z"
    }
   },
   "outputs": [
    {
     "data": {
      "text/plain": "['game_puzzle']"
     },
     "execution_count": 22,
     "metadata": {},
     "output_type": "execute_result"
    }
   ],
   "source": [
    "openai_ask(prompt)"
   ]
  },
  {
   "cell_type": "code",
   "execution_count": 23,
   "metadata": {
    "ExecuteTime": {
     "end_time": "2023-12-02T09:36:43.703983200Z",
     "start_time": "2023-12-02T09:36:43.235995700Z"
    }
   },
   "outputs": [
    {
     "data": {
      "text/plain": "['game_puzzle']"
     },
     "execution_count": 23,
     "metadata": {},
     "output_type": "execute_result"
    }
   ],
   "source": [
    "openai_ask(prompt)"
   ]
  },
  {
   "cell_type": "markdown",
   "metadata": {},
   "source": [
    "Seem to work pretty, well - let's try multi label?"
   ]
  },
  {
   "cell_type": "code",
   "execution_count": 24,
   "metadata": {
    "ExecuteTime": {
     "end_time": "2023-12-02T09:36:44.354799300Z",
     "start_time": "2023-12-02T09:36:43.706984100Z"
    }
   },
   "outputs": [
    {
     "data": {
      "text/plain": "[['application', 'entertainment', 'game', 'game', 'game_puzzle'],\n ['application', 'entertainment', 'game', 'game', 'game_puzzle'],\n ['application', 'entertainment', 'game', 'game', 'game_puzzle'],\n ['application', 'entertainment', 'game', 'game', 'game_puzzle'],\n ['game', 'game_', 'game_casual', 'game_puzzle'],\n ['game', 'game_', 'game_casual', 'game_puzzle'],\n ['application', 'entertainment', 'game', 'game', 'game_puzzle'],\n ['application', 'entertainment', 'game', 'game', 'game_puzzle'],\n ['application', 'entertainment', 'game', 'game', 'game_puzzle'],\n ['application', 'entertainment', 'game', 'game_cas', 'game_puzzle']]"
     },
     "execution_count": 24,
     "metadata": {},
     "output_type": "execute_result"
    }
   ],
   "source": [
    "prompt = \"please choose all the categories that apply to 'Crossword Jam' from the following list:\\n\"\n",
    "prompt+=\"\\n\".join(categories.index)\n",
    "[sorted(map(str.strip,l.strip().replace(\",\", \"\\n\").split(\"\\n\"))) for l in openai_ask([prompt]*10)]"
   ]
  },
  {
   "cell_type": "code",
   "execution_count": 25,
   "metadata": {
    "ExecuteTime": {
     "end_time": "2023-12-02T09:36:44.366870600Z",
     "start_time": "2023-12-02T09:36:44.351800400Z"
    }
   },
   "outputs": [
    {
     "data": {
      "text/plain": "False"
     },
     "execution_count": 25,
     "metadata": {},
     "output_type": "execute_result"
    }
   ],
   "source": [
    "\"game casual\" in categories"
   ]
  },
  {
   "cell_type": "markdown",
   "metadata": {},
   "source": [
    "## Using function calls\n",
    "### Choose most likely class"
   ]
  },
  {
   "cell_type": "code",
   "execution_count": 26,
   "metadata": {
    "ExecuteTime": {
     "end_time": "2023-12-02T09:36:45.120186200Z",
     "start_time": "2023-12-02T09:36:44.558603400Z"
    }
   },
   "outputs": [
    {
     "data": {
      "text/plain": "'game_puzzle'"
     },
     "execution_count": 26,
     "metadata": {},
     "output_type": "execute_result"
    }
   ],
   "source": [
    "def classify_most_likely(prompt):\n",
    "    messages = [{\"role\": \"user\", \"content\": prompt}]\n",
    "    tools = [\n",
    "        {\n",
    "            \"type\": \"function\",\n",
    "            \"function\": {\n",
    "                \"name\": \"classify_app\",\n",
    "                \"description\": \"Classify to an enum type\",\n",
    "                \"parameters\": {\n",
    "                    \"type\": \"object\",\n",
    "                    \"properties\": {\n",
    "                        \"class\": {\"type\": \"string\", \"enum\": list(categories.index)},\n",
    "                    },\n",
    "                    \"required\": [\"class\"],\n",
    "                },\n",
    "            },\n",
    "        }\n",
    "    ]\n",
    "    response = openai_client.chat.completions.create(\n",
    "        model=\"gpt-3.5-turbo-1106\",\n",
    "        messages=messages,\n",
    "        tools=tools,\n",
    "        tool_choice={\"type\": \"function\", \"function\": {\"name\": \"classify_app\"}}\n",
    "    )\n",
    "    ret =  response.choices[0].message.tool_calls[0].function.arguments\n",
    "    return json.loads(ret)[\"class\"]\n",
    "\n",
    "classify_most_likely(\"please choose the most likely category that apply to 'Crossword Jam'\")"
   ]
  },
  {
   "cell_type": "code",
   "execution_count": 27,
   "metadata": {
    "ExecuteTime": {
     "end_time": "2023-12-02T09:36:45.797223100Z",
     "start_time": "2023-12-02T09:36:45.118958400Z"
    }
   },
   "outputs": [
    {
     "data": {
      "text/plain": "['game', 'game_puzzle']"
     },
     "execution_count": 27,
     "metadata": {},
     "output_type": "execute_result"
    }
   ],
   "source": [
    "def classify_multiclass(prompt):\n",
    "    messages = [{\"role\": \"user\", \"content\": prompt}]\n",
    "    tools = [\n",
    "        {\n",
    "            \"type\": \"function\",\n",
    "            \"function\": {\n",
    "                \"name\": \"classify_app\",\n",
    "                \"description\": \"Classify to an enum type\",\n",
    "                \"parameters\": {\n",
    "                    \"type\": \"object\",\n",
    "                    \"properties\": {\n",
    "                        \"classes\": {\"type\": \"array\", \"items\": {\"type\": \"string\", \"enum\": list(categories.index)}},\n",
    "                    },\n",
    "                    \"required\": [\"classes\"],\n",
    "                },\n",
    "            },\n",
    "        }\n",
    "    ]\n",
    "    response = openai_client.chat.completions.create(\n",
    "        model=\"gpt-3.5-turbo-1106\",\n",
    "        messages=messages,\n",
    "        tools=tools,\n",
    "        tool_choice={\"type\": \"function\", \"function\": {\"name\": \"classify_app\"}}\n",
    "    )\n",
    "    ret =  response.choices[0].message.tool_calls[0].function.arguments\n",
    "    return json.loads(ret)[\"classes\"]\n",
    "\n",
    "classify_multiclass(\"please choose the all the categories that apply to 'Crossword Jam'\")"
   ]
  },
  {
   "cell_type": "code",
   "execution_count": 28,
   "metadata": {
    "ExecuteTime": {
     "end_time": "2023-12-02T09:36:46.537420700Z",
     "start_time": "2023-12-02T09:36:45.798722800Z"
    }
   },
   "outputs": [
    {
     "data": {
      "text/plain": "['game', 'game_puzzle']"
     },
     "execution_count": 28,
     "metadata": {},
     "output_type": "execute_result"
    }
   ],
   "source": [
    "classify_multiclass(\"please choose the all the categories that apply to 'Crossword Jam'\")"
   ]
  },
  {
   "cell_type": "markdown",
   "metadata": {},
   "source": [
    "## Question:\n",
    "Please write ask the model to classify all of the apps using the methods we learnt.\n",
    "\n",
    "Then create an additional column \"jaccard\" indicating whether intersection over union of the actual categories and the predicted ones.\n",
    "\n",
    "Which method was most successful?"
   ]
  },
  {
   "cell_type": "code",
   "execution_count": 29,
   "metadata": {
    "ExecuteTime": {
     "end_time": "2023-12-02T09:36:53.411762700Z",
     "start_time": "2023-12-02T09:36:46.532825900Z"
    }
   },
   "outputs": [
    {
     "data": {
      "text/plain": "                                    bundle_id                           title                                        description                                          store_url                category_names    ios                                category_multiclass\n5315                                530168168                      Paramount+  Welcome to A Mountain of Entertainment. Stream...  https://apps.apple.com/us/app/paramount/id5301...                 Entertainment   True  [application, entertainment, game, game_casual...\n24056              com.gramgames.mergedragons                  Merge Dragons!  Discover a magical land of entertainment and m...  https://play.google.com/store/apps/details?id=...              GAME_PUZZLE,GAME  False    [game, game_puzzle, entertainment, game_casual]\n35146               com.moonactive.coinmaster                     Coin Master  Join your Facebook friends and millions of pla...  https://play.google.com/store/apps/details?id=...              GAME_CASUAL,GAME  False  [game, application, game_casual, game_puzzle, ...\n60188                net.supertreat.solitaire         Solitaire Grand Harvest  Welcome to Solitaire Grand Harvest! Play this ...  https://play.google.com/store/apps/details?id=...                GAME_CARD,GAME  False  [game, application, game_puzzle, game_casual, ...\n54216                  de.cellular.ottohybrid         OTTO – Shopping & Möbel  Install the OTTO app now 📲 and shop fashion tr...  https://play.google.com/store/apps/details?id=...          SHOPPING,APPLICATION  False  [shopping, application, fashion, technology, e...\n383     air.com.buffalo_studios.newflashbingo     Bingo Blitz™️ - Bingo Games  Experience your free online bingo game as you ...  https://play.google.com/store/apps/details?id=...               GAME_BOARD,GAME  False  [game, game_casual, game_board, game_casino, e...\n24041                  com.grabtaxi.passenger                   Grab Superapp  Grab is Southeast Asia’s leading superapp. We ...  https://play.google.com/store/apps/details?id=...  TRAVEL_AND_LOCAL,APPLICATION  False          [application, shopping, travel_and_local]\n7478   com.alibaba.intl.android.apps.poseidon   Alibaba.com - B2B marketplace  What is Alibaba.com?\\nAlibaba.com is one of th...  https://play.google.com/store/apps/details?id=...          SHOPPING,APPLICATION  False    [application, shopping, game, travel_and_local]\n659               air.com.playtika.slotomania  Slotomania™ Slots Casino Games  Slotomania wishes you a Happy New Year! Play n...  https://play.google.com/store/apps/details?id=...              GAME_CASINO,GAME  False                 [game, game_casino, entertainment]",
      "text/html": "<div>\n<style scoped>\n    .dataframe tbody tr th:only-of-type {\n        vertical-align: middle;\n    }\n\n    .dataframe tbody tr th {\n        vertical-align: top;\n    }\n\n    .dataframe thead th {\n        text-align: right;\n    }\n</style>\n<table border=\"1\" class=\"dataframe\">\n  <thead>\n    <tr style=\"text-align: right;\">\n      <th></th>\n      <th>bundle_id</th>\n      <th>title</th>\n      <th>description</th>\n      <th>store_url</th>\n      <th>category_names</th>\n      <th>ios</th>\n      <th>category_multiclass</th>\n    </tr>\n  </thead>\n  <tbody>\n    <tr>\n      <th>5315</th>\n      <td>530168168</td>\n      <td>Paramount+</td>\n      <td>Welcome to A Mountain of Entertainment. Stream...</td>\n      <td>https://apps.apple.com/us/app/paramount/id5301...</td>\n      <td>Entertainment</td>\n      <td>True</td>\n      <td>[application, entertainment, game, game_casual...</td>\n    </tr>\n    <tr>\n      <th>24056</th>\n      <td>com.gramgames.mergedragons</td>\n      <td>Merge Dragons!</td>\n      <td>Discover a magical land of entertainment and m...</td>\n      <td>https://play.google.com/store/apps/details?id=...</td>\n      <td>GAME_PUZZLE,GAME</td>\n      <td>False</td>\n      <td>[game, game_puzzle, entertainment, game_casual]</td>\n    </tr>\n    <tr>\n      <th>35146</th>\n      <td>com.moonactive.coinmaster</td>\n      <td>Coin Master</td>\n      <td>Join your Facebook friends and millions of pla...</td>\n      <td>https://play.google.com/store/apps/details?id=...</td>\n      <td>GAME_CASUAL,GAME</td>\n      <td>False</td>\n      <td>[game, application, game_casual, game_puzzle, ...</td>\n    </tr>\n    <tr>\n      <th>60188</th>\n      <td>net.supertreat.solitaire</td>\n      <td>Solitaire Grand Harvest</td>\n      <td>Welcome to Solitaire Grand Harvest! Play this ...</td>\n      <td>https://play.google.com/store/apps/details?id=...</td>\n      <td>GAME_CARD,GAME</td>\n      <td>False</td>\n      <td>[game, application, game_puzzle, game_casual, ...</td>\n    </tr>\n    <tr>\n      <th>54216</th>\n      <td>de.cellular.ottohybrid</td>\n      <td>OTTO – Shopping &amp; Möbel</td>\n      <td>Install the OTTO app now 📲 and shop fashion tr...</td>\n      <td>https://play.google.com/store/apps/details?id=...</td>\n      <td>SHOPPING,APPLICATION</td>\n      <td>False</td>\n      <td>[shopping, application, fashion, technology, e...</td>\n    </tr>\n    <tr>\n      <th>383</th>\n      <td>air.com.buffalo_studios.newflashbingo</td>\n      <td>Bingo Blitz™️ - Bingo Games</td>\n      <td>Experience your free online bingo game as you ...</td>\n      <td>https://play.google.com/store/apps/details?id=...</td>\n      <td>GAME_BOARD,GAME</td>\n      <td>False</td>\n      <td>[game, game_casual, game_board, game_casino, e...</td>\n    </tr>\n    <tr>\n      <th>24041</th>\n      <td>com.grabtaxi.passenger</td>\n      <td>Grab Superapp</td>\n      <td>Grab is Southeast Asia’s leading superapp. We ...</td>\n      <td>https://play.google.com/store/apps/details?id=...</td>\n      <td>TRAVEL_AND_LOCAL,APPLICATION</td>\n      <td>False</td>\n      <td>[application, shopping, travel_and_local]</td>\n    </tr>\n    <tr>\n      <th>7478</th>\n      <td>com.alibaba.intl.android.apps.poseidon</td>\n      <td>Alibaba.com - B2B marketplace</td>\n      <td>What is Alibaba.com?\\nAlibaba.com is one of th...</td>\n      <td>https://play.google.com/store/apps/details?id=...</td>\n      <td>SHOPPING,APPLICATION</td>\n      <td>False</td>\n      <td>[application, shopping, game, travel_and_local]</td>\n    </tr>\n    <tr>\n      <th>659</th>\n      <td>air.com.playtika.slotomania</td>\n      <td>Slotomania™ Slots Casino Games</td>\n      <td>Slotomania wishes you a Happy New Year! Play n...</td>\n      <td>https://play.google.com/store/apps/details?id=...</td>\n      <td>GAME_CASINO,GAME</td>\n      <td>False</td>\n      <td>[game, game_casino, entertainment]</td>\n    </tr>\n  </tbody>\n</table>\n</div>"
     },
     "execution_count": 29,
     "metadata": {},
     "output_type": "execute_result"
    }
   ],
   "source": [
    "df[\"category_multiclass\"] = df.apply(chat_gpt_ask_functions_multiclass(\"please choose the all the categories that apply to the title: {title}, and the description: {description}\", categories), axis=1)\n",
    "df"
   ]
  },
  {
   "cell_type": "code",
   "execution_count": 30,
   "outputs": [
    {
     "data": {
      "text/plain": "                                    bundle_id                           title                                        description                                          store_url                category_names    ios                                category_multiclass category_most_likley\n5315                                530168168                      Paramount+  Welcome to A Mountain of Entertainment. Stream...  https://apps.apple.com/us/app/paramount/id5301...                 Entertainment   True  [application, entertainment, game, game_casual...          application\n24056              com.gramgames.mergedragons                  Merge Dragons!  Discover a magical land of entertainment and m...  https://play.google.com/store/apps/details?id=...              GAME_PUZZLE,GAME  False    [game, game_puzzle, entertainment, game_casual]                 game\n35146               com.moonactive.coinmaster                     Coin Master  Join your Facebook friends and millions of pla...  https://play.google.com/store/apps/details?id=...              GAME_CASUAL,GAME  False  [game, application, game_casual, game_puzzle, ...                 game\n60188                net.supertreat.solitaire         Solitaire Grand Harvest  Welcome to Solitaire Grand Harvest! Play this ...  https://play.google.com/store/apps/details?id=...                GAME_CARD,GAME  False  [game, application, game_puzzle, game_casual, ...                 game\n54216                  de.cellular.ottohybrid         OTTO – Shopping & Möbel  Install the OTTO app now 📲 and shop fashion tr...  https://play.google.com/store/apps/details?id=...          SHOPPING,APPLICATION  False  [shopping, application, fashion, technology, e...             shopping\n383     air.com.buffalo_studios.newflashbingo     Bingo Blitz™️ - Bingo Games  Experience your free online bingo game as you ...  https://play.google.com/store/apps/details?id=...               GAME_BOARD,GAME  False  [game, game_casual, game_board, game_casino, e...                 game\n24041                  com.grabtaxi.passenger                   Grab Superapp  Grab is Southeast Asia’s leading superapp. We ...  https://play.google.com/store/apps/details?id=...  TRAVEL_AND_LOCAL,APPLICATION  False          [application, shopping, travel_and_local]          application\n7478   com.alibaba.intl.android.apps.poseidon   Alibaba.com - B2B marketplace  What is Alibaba.com?\\nAlibaba.com is one of th...  https://play.google.com/store/apps/details?id=...          SHOPPING,APPLICATION  False    [application, shopping, game, travel_and_local]          application\n659               air.com.playtika.slotomania  Slotomania™ Slots Casino Games  Slotomania wishes you a Happy New Year! Play n...  https://play.google.com/store/apps/details?id=...              GAME_CASINO,GAME  False                 [game, game_casino, entertainment]          game_casino",
      "text/html": "<div>\n<style scoped>\n    .dataframe tbody tr th:only-of-type {\n        vertical-align: middle;\n    }\n\n    .dataframe tbody tr th {\n        vertical-align: top;\n    }\n\n    .dataframe thead th {\n        text-align: right;\n    }\n</style>\n<table border=\"1\" class=\"dataframe\">\n  <thead>\n    <tr style=\"text-align: right;\">\n      <th></th>\n      <th>bundle_id</th>\n      <th>title</th>\n      <th>description</th>\n      <th>store_url</th>\n      <th>category_names</th>\n      <th>ios</th>\n      <th>category_multiclass</th>\n      <th>category_most_likley</th>\n    </tr>\n  </thead>\n  <tbody>\n    <tr>\n      <th>5315</th>\n      <td>530168168</td>\n      <td>Paramount+</td>\n      <td>Welcome to A Mountain of Entertainment. Stream...</td>\n      <td>https://apps.apple.com/us/app/paramount/id5301...</td>\n      <td>Entertainment</td>\n      <td>True</td>\n      <td>[application, entertainment, game, game_casual...</td>\n      <td>application</td>\n    </tr>\n    <tr>\n      <th>24056</th>\n      <td>com.gramgames.mergedragons</td>\n      <td>Merge Dragons!</td>\n      <td>Discover a magical land of entertainment and m...</td>\n      <td>https://play.google.com/store/apps/details?id=...</td>\n      <td>GAME_PUZZLE,GAME</td>\n      <td>False</td>\n      <td>[game, game_puzzle, entertainment, game_casual]</td>\n      <td>game</td>\n    </tr>\n    <tr>\n      <th>35146</th>\n      <td>com.moonactive.coinmaster</td>\n      <td>Coin Master</td>\n      <td>Join your Facebook friends and millions of pla...</td>\n      <td>https://play.google.com/store/apps/details?id=...</td>\n      <td>GAME_CASUAL,GAME</td>\n      <td>False</td>\n      <td>[game, application, game_casual, game_puzzle, ...</td>\n      <td>game</td>\n    </tr>\n    <tr>\n      <th>60188</th>\n      <td>net.supertreat.solitaire</td>\n      <td>Solitaire Grand Harvest</td>\n      <td>Welcome to Solitaire Grand Harvest! Play this ...</td>\n      <td>https://play.google.com/store/apps/details?id=...</td>\n      <td>GAME_CARD,GAME</td>\n      <td>False</td>\n      <td>[game, application, game_puzzle, game_casual, ...</td>\n      <td>game</td>\n    </tr>\n    <tr>\n      <th>54216</th>\n      <td>de.cellular.ottohybrid</td>\n      <td>OTTO – Shopping &amp; Möbel</td>\n      <td>Install the OTTO app now 📲 and shop fashion tr...</td>\n      <td>https://play.google.com/store/apps/details?id=...</td>\n      <td>SHOPPING,APPLICATION</td>\n      <td>False</td>\n      <td>[shopping, application, fashion, technology, e...</td>\n      <td>shopping</td>\n    </tr>\n    <tr>\n      <th>383</th>\n      <td>air.com.buffalo_studios.newflashbingo</td>\n      <td>Bingo Blitz™️ - Bingo Games</td>\n      <td>Experience your free online bingo game as you ...</td>\n      <td>https://play.google.com/store/apps/details?id=...</td>\n      <td>GAME_BOARD,GAME</td>\n      <td>False</td>\n      <td>[game, game_casual, game_board, game_casino, e...</td>\n      <td>game</td>\n    </tr>\n    <tr>\n      <th>24041</th>\n      <td>com.grabtaxi.passenger</td>\n      <td>Grab Superapp</td>\n      <td>Grab is Southeast Asia’s leading superapp. We ...</td>\n      <td>https://play.google.com/store/apps/details?id=...</td>\n      <td>TRAVEL_AND_LOCAL,APPLICATION</td>\n      <td>False</td>\n      <td>[application, shopping, travel_and_local]</td>\n      <td>application</td>\n    </tr>\n    <tr>\n      <th>7478</th>\n      <td>com.alibaba.intl.android.apps.poseidon</td>\n      <td>Alibaba.com - B2B marketplace</td>\n      <td>What is Alibaba.com?\\nAlibaba.com is one of th...</td>\n      <td>https://play.google.com/store/apps/details?id=...</td>\n      <td>SHOPPING,APPLICATION</td>\n      <td>False</td>\n      <td>[application, shopping, game, travel_and_local]</td>\n      <td>application</td>\n    </tr>\n    <tr>\n      <th>659</th>\n      <td>air.com.playtika.slotomania</td>\n      <td>Slotomania™ Slots Casino Games</td>\n      <td>Slotomania wishes you a Happy New Year! Play n...</td>\n      <td>https://play.google.com/store/apps/details?id=...</td>\n      <td>GAME_CASINO,GAME</td>\n      <td>False</td>\n      <td>[game, game_casino, entertainment]</td>\n      <td>game_casino</td>\n    </tr>\n  </tbody>\n</table>\n</div>"
     },
     "execution_count": 30,
     "metadata": {},
     "output_type": "execute_result"
    }
   ],
   "source": [
    "df[\"category_most_likley\"] = df.apply(chat_gpt_ask_functions_most_likley(\"please choose the all the categories that apply to the title: {title}, and the description: {description}\", categories), axis=1)\n",
    "df"
   ],
   "metadata": {
    "collapsed": false,
    "ExecuteTime": {
     "end_time": "2023-12-02T09:36:59.038811Z",
     "start_time": "2023-12-02T09:36:53.412762600Z"
    }
   }
  },
  {
   "cell_type": "code",
   "execution_count": 31,
   "outputs": [],
   "source": [
    "def jaccard_set(list1, list2):\n",
    "    \"\"\"Define Jaccard Similarity function for two sets\"\"\"\n",
    "    intersection = len(list(set(list1).intersection(list2)))\n",
    "    union = (len(list1) + len(list2)) - intersection\n",
    "    return float(intersection) / union"
   ],
   "metadata": {
    "collapsed": false,
    "ExecuteTime": {
     "end_time": "2023-12-02T09:36:59.064090600Z",
     "start_time": "2023-12-02T09:36:59.046823800Z"
    }
   }
  },
  {
   "cell_type": "code",
   "execution_count": null,
   "outputs": [],
   "source": [],
   "metadata": {
    "collapsed": false
   }
  }
 ],
 "metadata": {
  "kernelspec": {
   "display_name": "Python 3 (ipykernel)",
   "language": "python",
   "name": "python3"
  },
  "language_info": {
   "codemirror_mode": {
    "name": "ipython",
    "version": 3
   },
   "file_extension": ".py",
   "mimetype": "text/x-python",
   "name": "python",
   "nbconvert_exporter": "python",
   "pygments_lexer": "ipython3",
   "version": "3.11.5"
  }
 },
 "nbformat": 4,
 "nbformat_minor": 4
}
